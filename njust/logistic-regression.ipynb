{
 "cells": [
  {
   "cell_type": "code",
   "execution_count": 1,
   "metadata": {},
   "outputs": [],
   "source": [
    "import numpy as np\n",
    "from numpy import exp,log,sum\n",
    "from numpy.linalg import inv\n",
    "import matplotlib.pyplot as plt\n",
    "\n",
    "%matplotlib inline"
   ]
  },
  {
   "cell_type": "code",
   "execution_count": 2,
   "metadata": {},
   "outputs": [],
   "source": [
    "X = np.loadtxt('ex4x.dat')\n",
    "y = np.loadtxt('ex4y.dat')\n",
    "X = np.c_[np.ones_like(y),X]"
   ]
  },
  {
   "cell_type": "code",
   "execution_count": 3,
   "metadata": {},
   "outputs": [
    {
     "data": {
      "image/png": "[encoded data removed]",
      "text/plain": [
       "<Figure size 432x288 with 1 Axes>"
      ]
     },
     "metadata": {},
     "output_type": "display_data"
    }
   ],
   "source": [
    "plt.plot(X[y==0.0,1],X[y==0.0,2],'o',color='r')\n",
    "plt.plot(X[y==1.0,1],X[y==1.0,2],'o',color='b')\n",
    "plt.show()"
   ]
  },
  {
   "cell_type": "code",
   "execution_count": 4,
   "metadata": {},
   "outputs": [],
   "source": [
    "def sig(x):\n",
    "    return 1./(1.+exp(-x))\n",
    "\n",
    "def h(x, theta):\n",
    "    return sig(x @ theta)\n",
    "\n",
    "def likelihood(x, y, theta):\n",
    "    prob = h(x, theta)\n",
    "    s1 = log(prob[y==1.]).sum()\n",
    "    s2 = log(1-prob[y==0.]).sum()\n",
    "    return s1 + s2\n",
    "\n",
    "def grad(x, y, theta):\n",
    "    error = np.expand_dims(y - h(x, theta), axis=1)\n",
    "    return np.sum(error * x , axis=0)"
   ]
  },
  {
   "cell_type": "code",
   "execution_count": 5,
   "metadata": {},
   "outputs": [],
   "source": [
    "def numerical_grad(f, x, eps=1e-8):\n",
    "    g = np.empty_like(theta)\n",
    "    for i in range(g.shape[0]):\n",
    "        dx = np.zeros_like(x)\n",
    "        dx[i] += eps\n",
    "        g[i] = (f(x+dx) - f(x))/eps\n",
    "    return g"
   ]
  },
  {
   "cell_type": "code",
   "execution_count": 6,
   "metadata": {},
   "outputs": [],
   "source": [
    "theta = np.zeros(3)"
   ]
  },
  {
   "cell_type": "code",
   "execution_count": 7,
   "metadata": {},
   "outputs": [
    {
     "data": {
      "text/plain": [
       "array([  0.  , 204.5 , 210.25])"
      ]
     },
     "execution_count": 7,
     "metadata": {},
     "output_type": "execute_result"
    }
   ],
   "source": [
    "grad(X, y, theta)"
   ]
  },
  {
   "cell_type": "code",
   "execution_count": 8,
   "metadata": {},
   "outputs": [
    {
     "data": {
      "text/plain": [
       "array([  0.        , 204.49984746, 210.24953654])"
      ]
     },
     "execution_count": 8,
     "metadata": {},
     "output_type": "execute_result"
    }
   ],
   "source": [
    "numerical_grad(lambda theta: likelihood(X, y, theta), theta)"
   ]
  },
  {
   "cell_type": "code",
   "execution_count": 9,
   "metadata": {},
   "outputs": [],
   "source": [
    "theta = np.array([-16.37874341,   0.14834077,   0.15890845])\n"
   ]
  },
  {
   "cell_type": "code",
   "execution_count": 10,
   "metadata": {},
   "outputs": [
    {
     "data": {
      "text/plain": [
       "array([2.75050057e-06, 1.08023612e-04, 1.86181478e-04])"
      ]
     },
     "execution_count": 10,
     "metadata": {},
     "output_type": "execute_result"
    }
   ],
   "source": [
    "grad(X, y, theta)"
   ]
  },
  {
   "cell_type": "code",
   "execution_count": 11,
   "metadata": {},
   "outputs": [
    {
     "data": {
      "text/plain": [
       "array([ 2.84217094e-06,  2.70006240e-05, -5.40012479e-05])"
      ]
     },
     "execution_count": 11,
     "metadata": {},
     "output_type": "execute_result"
    }
   ],
   "source": [
    "numerical_grad(lambda theta: likelihood(X, y, theta), theta, eps=1e-8)"
   ]
  },
  {
   "cell_type": "markdown",
   "metadata": {},
   "source": [
    "# GD"
   ]
  },
  {
   "cell_type": "code",
   "execution_count": 12,
   "metadata": {},
   "outputs": [
    {
     "name": "stdout",
     "output_type": "stream",
     "text": [
      "0 -55.451774444795625\n",
      "10000 -51.33447187187888\n",
      "20000 -49.676555823098056\n",
      "30000 -48.20733553949631\n",
      "40000 -46.902687692870316\n",
      "50000 -45.74130370319722\n",
      "60000 -44.704583960165714\n",
      "70000 -43.776423027604984\n",
      "80000 -42.94294467833578\n",
      "90000 -42.192225516545484\n",
      "100000 -41.51403009027448\n",
      "110000 -40.899569294165744\n",
      "120000 -40.34128675856351\n",
      "130000 -39.832673736360555\n",
      "140000 -39.368110761060485\n",
      "150000 -38.9427333230813\n",
      "160000 -38.55231849263683\n",
      "170000 -38.19318948354151\n",
      "180000 -37.862135406336904\n",
      "190000 -37.556343787182136\n",
      "200000 -37.27334376841473\n",
      "210000 -37.01095822584412\n",
      "220000 -36.76726332277303\n",
      "230000 -36.540554267358004\n",
      "240000 -36.329316249241785\n",
      "250000 -36.132199706833035\n",
      "260000 -35.9479992224593\n",
      "270000 -35.775635463250694\n",
      "280000 -35.61413968508654\n",
      "290000 -35.4626403988362\n",
      "300000 -35.320351865530895\n",
      "310000 -35.18656414259788\n",
      "320000 -35.06063444902477\n",
      "330000 -34.94197965506257\n",
      "340000 -34.83006973328207\n",
      "350000 -34.72442203364487\n",
      "360000 -34.624596266707655\n",
      "370000 -34.53019009693216\n",
      "380000 -34.44083526296303\n",
      "390000 -34.35619415418441\n",
      "400000 -34.27595678329886\n",
      "410000 -34.199838103438694\n",
      "420000 -34.1275756257005\n",
      "430000 -34.05892729922948\n",
      "440000 -33.993669621253545\n",
      "450000 -33.93159594894432\n",
      "460000 -33.87251498878863\n",
      "470000 -33.816249442398444\n",
      "480000 -33.76263479045948\n",
      "490000 -33.71151819889376\n",
      "500000 -33.66275753334678\n",
      "510000 -33.61622046986457\n",
      "520000 -33.571783691134904\n",
      "530000 -33.5293321589721\n",
      "540000 -33.488758454853354\n",
      "550000 -33.44996218129462\n",
      "560000 -33.41284941770439\n",
      "570000 -33.37733222509412\n",
      "580000 -33.343328194670505\n",
      "590000 -33.31076003589964\n",
      "600000 -33.27955520012597\n",
      "610000 -33.24964553626362\n",
      "620000 -33.22096697545746\n",
      "630000 -33.19345924194661\n",
      "640000 -33.167065587657305\n",
      "650000 -33.14173254831363\n",
      "660000 -33.11740971908418\n",
      "670000 -33.09404954798645\n",
      "680000 -33.071607145452276\n",
      "690000 -33.05004010861737\n",
      "700000 -33.029308359040975\n",
      "710000 -33.009373992689035\n",
      "720000 -32.99020114112742\n",
      "730000 -32.97175584297278\n",
      "740000 -32.954005924739164\n",
      "750000 -32.9369208902999\n",
      "760000 -32.920471818256274\n",
      "770000 -32.90463126657001\n",
      "780000 -32.889373183874994\n",
      "790000 -32.874672826936326\n",
      "800000 -32.86050668377222\n",
      "810000 -32.84685240199701\n",
      "820000 -32.83368872198203\n",
      "830000 -32.82099541446634\n",
      "840000 -32.80875322228003\n",
      "850000 -32.796943805872175\n",
      "860000 -32.78554969236121\n",
      "870000 -32.7745542278484\n",
      "880000 -32.76394153275707\n",
      "890000 -32.75369645997958\n",
      "900000 -32.743804555631016\n",
      "910000 -32.73425202222546\n",
      "920000 -32.725025684104565\n",
      "930000 -32.71611295496227\n",
      "940000 -32.70750180732115\n",
      "950000 -32.69918074382697\n",
      "960000 -32.691138770238666\n",
      "970000 -32.6833653700001\n",
      "980000 -32.67585048028798\n",
      "990000 -32.66858446943924\n"
     ]
    }
   ],
   "source": [
    "theta = np.zeros(3)\n",
    "alpha = 1.7e-5\n",
    "\n",
    "for i in range(1000000):\n",
    "    \n",
    "    if i % 10000 == 0:\n",
    "        print(i,likelihood(X, y, theta))\n",
    "    theta += alpha * grad(X, y, theta)"
   ]
  },
  {
   "cell_type": "code",
   "execution_count": 13,
   "metadata": {},
   "outputs": [
    {
     "data": {
      "text/plain": [
       "array([-14.03277146,   0.13079858,   0.13442763])"
      ]
     },
     "execution_count": 13,
     "metadata": {},
     "output_type": "execute_result"
    }
   ],
   "source": [
    "theta"
   ]
  },
  {
   "cell_type": "markdown",
   "metadata": {},
   "source": [
    "# SGD"
   ]
  },
  {
   "cell_type": "code",
   "execution_count": 18,
   "metadata": {},
   "outputs": [
    {
     "data": {
      "text/plain": [
       "array([8])"
      ]
     },
     "execution_count": 18,
     "metadata": {},
     "output_type": "execute_result"
    }
   ],
   "source": [
    "np.random.randint(y.shape[0], size = 1)"
   ]
  },
  {
   "cell_type": "code",
   "execution_count": 19,
   "metadata": {},
   "outputs": [
    {
     "name": "stdout",
     "output_type": "stream",
     "text": [
      "0 -55.451774444795625\n",
      "10000 -53.20286163478794\n",
      "20000 -59.970252544445884\n",
      "30000 -52.52834676874746\n",
      "40000 -53.37688401184337\n",
      "50000 -53.39408949223787\n",
      "60000 -56.71907467489264\n",
      "70000 -51.947602135406605\n",
      "80000 -51.382446888951606\n",
      "90000 -64.98985221775791\n",
      "100000 -51.39451082646751\n",
      "110000 -51.086221932688176\n",
      "120000 -52.35650727428612\n",
      "130000 -50.69030591663221\n",
      "140000 -54.593966124886045\n",
      "150000 -53.513487430413406\n",
      "160000 -49.88270045437465\n",
      "170000 -49.56045857356312\n",
      "180000 -68.44788582757428\n",
      "190000 -49.63318446744321\n",
      "200000 -49.62472878597455\n",
      "210000 -66.79808482920238\n",
      "220000 -62.28785743479594\n",
      "230000 -51.66989719891322\n",
      "240000 -50.33479152275608\n",
      "250000 -61.96407850342692\n",
      "260000 -58.79716014609943\n",
      "270000 -48.52723792215254\n",
      "280000 -49.29381989455576\n",
      "290000 -52.98336348921607\n",
      "300000 -53.644414936017114\n",
      "310000 -50.21926728785441\n",
      "320000 -47.0218249229195\n",
      "330000 -47.22105523178347\n",
      "340000 -46.728098786988554\n",
      "350000 -82.03493982845494\n",
      "360000 -46.3245526529777\n",
      "370000 -59.74380851422976\n",
      "380000 -53.13681808060497\n",
      "390000 -51.43066561386079\n",
      "400000 -82.77071658065123\n",
      "410000 -55.7934860548721\n",
      "420000 -48.551804647655665\n",
      "430000 -53.04789064160523\n",
      "440000 -56.04784499482186\n",
      "450000 -52.19886585412877\n",
      "460000 -50.51845788332566\n",
      "470000 -54.718625612601116\n",
      "480000 -44.86994401044963\n",
      "490000 -47.9976597676766\n",
      "500000 -54.750216228929766\n",
      "510000 -44.74340139600159\n",
      "520000 -48.73942309796415\n",
      "530000 -46.083276088419055\n",
      "540000 -45.52983787469004\n",
      "550000 -52.24917233047251\n",
      "560000 -44.755684985230744\n",
      "570000 -45.02167548974933\n",
      "580000 -52.164932749487924\n",
      "590000 -43.90260310019249\n",
      "600000 -46.54885910166061\n",
      "610000 -44.521215530738914\n",
      "620000 -45.18147230625157\n",
      "630000 -45.622868695668544\n",
      "640000 -43.16432299776551\n",
      "650000 -43.3706833520144\n",
      "660000 -44.98689087566363\n",
      "670000 -43.309311513945254\n",
      "680000 -47.09179162153562\n",
      "690000 -83.20630662181239\n",
      "700000 -48.23013104816704\n",
      "710000 -51.16982996166942\n",
      "720000 -41.98617283897131\n",
      "730000 -41.97974376670925\n",
      "740000 -41.81698220473294\n",
      "750000 -48.47260734125106\n",
      "760000 -46.10261257643619\n",
      "770000 -41.930545880835204\n",
      "780000 -49.62837376072294\n",
      "790000 -50.70945891953477\n",
      "800000 -42.37254731594066\n",
      "810000 -48.05608655406531\n",
      "820000 -41.125262747488534\n",
      "830000 -41.40877600434271\n",
      "840000 -41.02009390015019\n",
      "850000 -48.28128359421804\n",
      "860000 -42.128091600511056\n",
      "870000 -41.23357026727157\n",
      "880000 -41.690135111617835\n",
      "890000 -40.79228336171904\n",
      "900000 -42.42805106968781\n",
      "910000 -40.73278161687672\n",
      "920000 -42.496287531837226\n",
      "930000 -44.53584268070529\n",
      "940000 -40.65854287932896\n",
      "950000 -40.16583711060804\n",
      "960000 -45.873481546534336\n",
      "970000 -46.54303165973097\n",
      "980000 -42.06912563992581\n",
      "990000 -40.21225775970859\n"
     ]
    }
   ],
   "source": [
    "theta = np.zeros(3)\n",
    "alpha = 1.7e-4\n",
    "\n",
    "best_like = -np.inf\n",
    "best_theta = None\n",
    "\n",
    "for i in range(1000000):\n",
    "    \n",
    "    idx = np.random.randint(y.shape[0], size = 1)\n",
    "    \n",
    "    if i % 10000 == 0:\n",
    "        print(i,likelihood(X, y, theta))\n",
    "    theta += alpha * grad(X[idx,:], y[idx], theta)\n",
    "    \n",
    "    current_like = likelihood(X,y,theta)\n",
    "    if current_like > best_like:\n",
    "        best_like = current_like\n",
    "        best_theta = theta.copy()\n"
   ]
  },
  {
   "cell_type": "code",
   "execution_count": 20,
   "metadata": {},
   "outputs": [
    {
     "data": {
      "text/plain": [
       "(array([-5.33111616,  0.07258823,  0.0396464 ]), -39.822541123193965)"
      ]
     },
     "execution_count": 20,
     "metadata": {},
     "output_type": "execute_result"
    }
   ],
   "source": [
    "best_theta,best_like"
   ]
  },
  {
   "cell_type": "markdown",
   "metadata": {},
   "source": [
    "# Newton"
   ]
  },
  {
   "cell_type": "code",
   "execution_count": 21,
   "metadata": {},
   "outputs": [],
   "source": [
    "def hess(x, theta):\n",
    "    _h = h(x, theta)\n",
    "    return (x.T * _h * (1 - _h)) @ X"
   ]
  },
  {
   "cell_type": "code",
   "execution_count": 22,
   "metadata": {},
   "outputs": [
    {
     "data": {
      "text/plain": [
       "array([[ 2.64273777e+00, -1.14611834e-02, -3.20405451e-02],\n",
       "       [-1.14611834e-02,  5.48681061e-04, -1.38115496e-04],\n",
       "       [-3.20405451e-02, -1.38115496e-04,  5.53094765e-04]])"
      ]
     },
     "execution_count": 22,
     "metadata": {},
     "output_type": "execute_result"
    }
   ],
   "source": [
    "inv(hess(X, np.zeros(3)))"
   ]
  },
  {
   "cell_type": "code",
   "execution_count": 23,
   "metadata": {},
   "outputs": [
    {
     "name": "stdout",
     "output_type": "stream",
     "text": [
      "0 -55.451774444795625\n",
      "10 -34.124645828611264\n",
      "20 -32.50408783454258\n",
      "30 -32.43763845234177\n",
      "40 -32.435839260702664\n",
      "50 -32.43579508733277\n",
      "60 -32.43579402058752\n",
      "70 -32.43579399489359\n",
      "80 -32.43579399427496\n",
      "90 -32.43579399426007\n"
     ]
    }
   ],
   "source": [
    "theta = np.zeros(3)\n",
    "alpha = 1.7e-1\n",
    "\n",
    "for i in range(100):\n",
    "    \n",
    "    if i % 10 == 0:\n",
    "        print(i,likelihood(X, y, theta))\n",
    "    \n",
    "    _grad = grad(X, y, theta)\n",
    "    _hess = hess(X, theta)\n",
    "    \n",
    "    theta += alpha * (inv(_hess) @ _grad)\n",
    "    "
   ]
  },
  {
   "cell_type": "code",
   "execution_count": 24,
   "metadata": {},
   "outputs": [
    {
     "data": {
      "text/plain": [
       "array([-16.37874293,   0.14834077,   0.15890845])"
      ]
     },
     "execution_count": 24,
     "metadata": {},
     "output_type": "execute_result"
    }
   ],
   "source": [
    "theta"
   ]
  },
  {
   "cell_type": "markdown",
   "metadata": {},
   "source": [
    "# scipy"
   ]
  },
  {
   "cell_type": "code",
   "execution_count": 25,
   "metadata": {},
   "outputs": [],
   "source": [
    "import scipy.optimize"
   ]
  },
  {
   "cell_type": "code",
   "execution_count": 26,
   "metadata": {},
   "outputs": [
    {
     "name": "stderr",
     "output_type": "stream",
     "text": [
      "D:\\anaconda\\lib\\site-packages\\ipykernel_launcher.py:10: RuntimeWarning: divide by zero encountered in log\n",
      "  # Remove the CWD from sys.path while we load stuff.\n",
      "D:\\anaconda\\lib\\site-packages\\scipy\\optimize\\optimize.py:663: RuntimeWarning: invalid value encountered in double_scalars\n",
      "  grad[k] = (f(*((xk + d,) + args)) - f0) / d[k]\n",
      "D:\\anaconda\\lib\\site-packages\\ipykernel_launcher.py:10: RuntimeWarning: divide by zero encountered in log\n",
      "  # Remove the CWD from sys.path while we load stuff.\n"
     ]
    },
    {
     "data": {
      "text/plain": [
       "      fun: 32.43579399437657\n",
       " hess_inv: array([[ 0.00110774,  0.00109709, -0.00062123],\n",
       "       [ 0.00109709,  0.00109714, -0.0006211 ],\n",
       "       [-0.00062123, -0.0006211 ,  0.00037159]])\n",
       "      jac: array([-4.76837158e-07, -2.19345093e-05, -2.86102295e-05])\n",
       "  message: 'Desired error not necessarily achieved due to precision loss.'\n",
       "     nfev: 168\n",
       "      nit: 17\n",
       "     njev: 32\n",
       "   status: 2\n",
       "  success: False\n",
       "        x: array([-16.37868849,   0.14834042,   0.15890784])"
      ]
     },
     "execution_count": 26,
     "metadata": {},
     "output_type": "execute_result"
    }
   ],
   "source": [
    "scipy.optimize.minimize(lambda theta: -likelihood(X,y, theta), np.zeros(3))"
   ]
  },
  {
   "cell_type": "code",
   "execution_count": 27,
   "metadata": {},
   "outputs": [
    {
     "data": {
      "text/plain": [
       "      fun: 55.451774444795625\n",
       " hess_inv: array([[1, 0, 0],\n",
       "       [0, 1, 0],\n",
       "       [0, 0, 1]])\n",
       "      jac: array([   0.        , -204.49977207, -210.24930906])\n",
       "  message: 'Maximum number of iterations has been exceeded.'\n",
       "     nfev: 5\n",
       "      nit: 0\n",
       "     njev: 1\n",
       "   status: 1\n",
       "  success: False\n",
       "        x: array([0., 0., 0.])"
      ]
     },
     "execution_count": 27,
     "metadata": {},
     "output_type": "execute_result"
    }
   ],
   "source": [
    "scipy.optimize.minimize(lambda theta: -likelihood(X,y, theta), np.zeros(3), options = {\"maxiter\":0})"
   ]
  },
  {
   "cell_type": "code",
   "execution_count": 28,
   "metadata": {},
   "outputs": [
    {
     "name": "stderr",
     "output_type": "stream",
     "text": [
      "D:\\anaconda\\lib\\site-packages\\ipykernel_launcher.py:10: RuntimeWarning: divide by zero encountered in log\n",
      "  # Remove the CWD from sys.path while we load stuff.\n",
      "D:\\anaconda\\lib\\site-packages\\scipy\\optimize\\optimize.py:663: RuntimeWarning: invalid value encountered in double_scalars\n",
      "  grad[k] = (f(*((xk + d,) + args)) - f0) / d[k]\n",
      "D:\\anaconda\\lib\\site-packages\\ipykernel_launcher.py:10: RuntimeWarning: divide by zero encountered in log\n",
      "  # Remove the CWD from sys.path while we load stuff.\n"
     ]
    },
    {
     "data": {
      "text/plain": [
       "      fun: 55.07508000717154\n",
       " hess_inv: array([[ 1.        , -0.00913778, -0.00939469],\n",
       "       [-0.00913778,  0.80663649, -0.45874049],\n",
       "       [-0.00939469, -0.45874049,  0.26111316]])\n",
       "      jac: array([  4.06421757, -46.0636611 ,  68.2552228 ])\n",
       "  message: 'Maximum number of iterations has been exceeded.'\n",
       "     nfev: 32\n",
       "      nit: 1\n",
       "     njev: 5\n",
       "   status: 1\n",
       "  success: False\n",
       "        x: array([0.        , 0.00190393, 0.00195746])"
      ]
     },
     "execution_count": 28,
     "metadata": {},
     "output_type": "execute_result"
    }
   ],
   "source": [
    "scipy.optimize.minimize(lambda theta: -likelihood(X,y, theta), np.zeros(3), options = {\"maxiter\":1})"
   ]
  },
  {
   "cell_type": "markdown",
   "metadata": {},
   "source": [
    "# statsmodels"
   ]
  },
  {
   "cell_type": "code",
   "execution_count": 29,
   "metadata": {},
   "outputs": [],
   "source": [
    "import statsmodels.api as sm"
   ]
  },
  {
   "cell_type": "code",
   "execution_count": 30,
   "metadata": {},
   "outputs": [
    {
     "data": {
      "text/plain": [
       "array([-16.37874341,   0.14834077,   0.15890845])"
      ]
     },
     "execution_count": 30,
     "metadata": {},
     "output_type": "execute_result"
    }
   ],
   "source": [
    "logit_mod = sm.Logit(y, X)\n",
    "logit_res = logit_mod.fit(disp=0)\n",
    "param = logit_res.params\n",
    "param"
   ]
  },
  {
   "cell_type": "code",
   "execution_count": 31,
   "metadata": {},
   "outputs": [
    {
     "data": {
      "image/png": "[encoded data removed]",
      "text/plain": [
       "<Figure size 432x288 with 1 Axes>"
      ]
     },
     "metadata": {},
     "output_type": "display_data"
    }
   ],
   "source": [
    "plt.plot(X[y==0.0,1],X[y==0.0,2],'o',color='r')\n",
    "plt.plot(X[y==1.0,1],X[y==1.0,2],'o',color='b')\n",
    "b = -param[0]/param[2]\n",
    "k = -param[1]/param[2]\n",
    "_x = np.linspace(20,60,100)\n",
    "_y = b + k * _x\n",
    "plt.plot(_x, _y, color='g')\n",
    "plt.show()"
   ]
  },
  {
   "cell_type": "markdown",
   "metadata": {},
   "source": [
    "# animation"
   ]
  },
  {
   "cell_type": "code",
   "execution_count": 32,
   "metadata": {},
   "outputs": [
    {
     "name": "stdout",
     "output_type": "stream",
     "text": [
      "0 -55.451774444795625\n",
      "10000 -51.33447187187888\n",
      "20000 -49.676555823098056\n",
      "30000 -48.20733553949631\n",
      "40000 -46.902687692870316\n",
      "50000 -45.74130370319722\n",
      "60000 -44.704583960165714\n",
      "70000 -43.776423027604984\n",
      "80000 -42.94294467833578\n",
      "90000 -42.192225516545484\n",
      "100000 -41.51403009027448\n",
      "110000 -40.899569294165744\n",
      "120000 -40.34128675856351\n",
      "130000 -39.832673736360555\n",
      "140000 -39.368110761060485\n",
      "150000 -38.9427333230813\n",
      "160000 -38.55231849263683\n",
      "170000 -38.19318948354151\n",
      "180000 -37.862135406336904\n",
      "190000 -37.556343787182136\n",
      "200000 -37.27334376841473\n",
      "210000 -37.01095822584412\n",
      "220000 -36.76726332277303\n",
      "230000 -36.540554267358004\n",
      "240000 -36.329316249241785\n",
      "250000 -36.132199706833035\n",
      "260000 -35.9479992224593\n",
      "270000 -35.775635463250694\n",
      "280000 -35.61413968508654\n",
      "290000 -35.4626403988362\n",
      "300000 -35.320351865530895\n",
      "310000 -35.18656414259788\n",
      "320000 -35.06063444902477\n",
      "330000 -34.94197965506257\n",
      "340000 -34.83006973328207\n",
      "350000 -34.72442203364487\n",
      "360000 -34.624596266707655\n",
      "370000 -34.53019009693216\n",
      "380000 -34.44083526296303\n",
      "390000 -34.35619415418441\n",
      "400000 -34.27595678329886\n",
      "410000 -34.199838103438694\n",
      "420000 -34.1275756257005\n",
      "430000 -34.05892729922948\n",
      "440000 -33.993669621253545\n",
      "450000 -33.93159594894432\n",
      "460000 -33.87251498878863\n",
      "470000 -33.816249442398444\n",
      "480000 -33.76263479045948\n",
      "490000 -33.71151819889376\n",
      "500000 -33.66275753334678\n",
      "510000 -33.61622046986457\n",
      "520000 -33.571783691134904\n",
      "530000 -33.5293321589721\n",
      "540000 -33.488758454853354\n",
      "550000 -33.44996218129462\n",
      "560000 -33.41284941770439\n",
      "570000 -33.37733222509412\n",
      "580000 -33.343328194670505\n",
      "590000 -33.31076003589964\n",
      "600000 -33.27955520012597\n",
      "610000 -33.24964553626362\n",
      "620000 -33.22096697545746\n",
      "630000 -33.19345924194661\n",
      "640000 -33.167065587657305\n",
      "650000 -33.14173254831363\n",
      "660000 -33.11740971908418\n",
      "670000 -33.09404954798645\n",
      "680000 -33.071607145452276\n",
      "690000 -33.05004010861737\n",
      "700000 -33.029308359040975\n",
      "710000 -33.009373992689035\n",
      "720000 -32.99020114112742\n",
      "730000 -32.97175584297278\n",
      "740000 -32.954005924739164\n",
      "750000 -32.9369208902999\n",
      "760000 -32.920471818256274\n",
      "770000 -32.90463126657001\n",
      "780000 -32.889373183874994\n",
      "790000 -32.874672826936326\n",
      "800000 -32.86050668377222\n",
      "810000 -32.84685240199701\n",
      "820000 -32.83368872198203\n",
      "830000 -32.82099541446634\n",
      "840000 -32.80875322228003\n",
      "850000 -32.796943805872175\n",
      "860000 -32.78554969236121\n",
      "870000 -32.7745542278484\n",
      "880000 -32.76394153275707\n",
      "890000 -32.75369645997958\n",
      "900000 -32.743804555631016\n",
      "910000 -32.73425202222546\n",
      "920000 -32.725025684104565\n",
      "930000 -32.71611295496227\n",
      "940000 -32.70750180732115\n",
      "950000 -32.69918074382697\n",
      "960000 -32.691138770238666\n",
      "970000 -32.6833653700001\n",
      "980000 -32.67585048028798\n",
      "990000 -32.66858446943924\n"
     ]
    }
   ],
   "source": [
    "theta = np.zeros(3)\n",
    "alpha = 1.7e-5\n",
    "\n",
    "likelihood_list = []\n",
    "param_list = []\n",
    "\n",
    "for i in range(1000000):\n",
    "    \n",
    "    if i % 10000 == 0:\n",
    "        print(i,likelihood(X, y, theta))\n",
    "        likelihood_list.append(likelihood(X, y, theta))\n",
    "        param_list.append(theta.copy())\n",
    "    theta += alpha * grad(X, y, theta)"
   ]
  },
  {
   "cell_type": "code",
   "execution_count": 33,
   "metadata": {},
   "outputs": [],
   "source": [
    "likelihood_array = np.array(likelihood_list)\n",
    "param_array = np.array(param_list)"
   ]
  },
  {
   "cell_type": "code",
   "execution_count": 34,
   "metadata": {},
   "outputs": [],
   "source": [
    "\n",
    "def get_y(_x, param):\n",
    "    b = -param[0]/param[2]\n",
    "    k = -param[1]/param[2]\n",
    "    _y = b + k * _x\n",
    "    return _y\n",
    "\n",
    "from matplotlib.animation import FuncAnimation\n",
    "\n",
    "def make_anim(likelihood_array, param_array, cache_name = 'line.html'):\n",
    "\n",
    "    fig, (ax_loss, ax_line) = plt.subplots(1,2, figsize=(10,5))\n",
    "    fig.set_tight_layout(True)\n",
    "\n",
    "    plt.plot(X[y==0.0,1],X[y==0.0,2],'o',color='r')\n",
    "    plt.plot(X[y==1.0,1],X[y==1.0,2],'o',color='b')\n",
    "\n",
    "    _x = np.linspace(20,60,100)\n",
    "    _y = get_y(_x, param_array[0])\n",
    "\n",
    "    ax_loss.set_xlim(0,  param_array.shape[0])\n",
    "    ax_loss.set_ylim(-60, 0)\n",
    "\n",
    "    line, = ax_line.plot(_x, _y, 'g-', linewidth=2)\n",
    "\n",
    "    #plt.show()\n",
    "\n",
    "    def update(i):\n",
    "        ax_loss.plot(i, likelihood_array[i], 'o-', color='b')\n",
    "        _y = get_y(_x, param_array[i])\n",
    "        line.set_ydata(_y)\n",
    "\n",
    "    anim = FuncAnimation(fig, update, frames=np.arange(0, param_array.shape[0]), interval=200)\n",
    "    anim.save(cache_name, dpi=80, writer='html')"
   ]
  },
  {
   "cell_type": "code",
   "execution_count": 35,
   "metadata": {},
   "outputs": [
    {
     "name": "stderr",
     "output_type": "stream",
     "text": [
      "D:\\anaconda\\lib\\site-packages\\ipykernel_launcher.py:3: RuntimeWarning: invalid value encountered in double_scalars\n",
      "  This is separate from the ipykernel package so we can avoid doing imports until\n",
      "D:\\anaconda\\lib\\site-packages\\ipykernel_launcher.py:4: RuntimeWarning: invalid value encountered in double_scalars\n",
      "  after removing the cwd from sys.path.\n"
     ]
    },
    {
     "data": {
      "text/html": [
       "\n",
       "<link rel=\"stylesheet\"\n",
       "href=\"https://maxcdn.bootstrapcdn.com/font-awesome/4.4.0/\n",
       "css/font-awesome.min.css\">\n",
       "<script language=\"javascript\">\n",
       "  /* Define the Animation class */\n",
       "  function Animation(frames, img_id, slider_id, interval, loop_select_id){\n",
       "    this.img_id = img_id;\n",
       "    this.slider_id = slider_id;\n",
       "    this.loop_select_id = loop_select_id;\n",
       "    this.interval = interval;\n",
       "    this.current_frame = 0;\n",
       "    this.direction = 0;\n",
       "    this.timer = null;\n",
       "    this.frames = new Array(frames.length);\n",
       "\n",
       "    for (var i=0; i<frames.length; i++)\n",
       "    {\n",
       "     this.frames[i] = new Image();\n",
       "     this.frames[i].src = frames[i];\n",
       "    }\n",
       "    document.getElementById(this.slider_id).max = this.frames.length - 1;\n",
       "    this.set_frame(this.current_frame);\n",
       "  }\n",
       "\n",
       "  Animation.prototype.get_loop_state = function(){\n",
       "    var button_group = document[this.loop_select_id].state;\n",
       "    for (var i = 0; i < button_group.length; i++) {\n",
       "        var button = button_group[i];\n",
       "        if (button.checked) {\n",
       "            return button.value;\n",
       "        }\n",
       "    }\n",
       "    return undefined;\n",
       "  }\n",
       "\n",
       "  Animation.prototype.set_frame = function(frame){\n",
       "    this.current_frame = frame;\n",
       "    document.getElementById(this.img_id).src =\n",
       "            this.frames[this.current_frame].src;\n",
       "    document.getElementById(this.slider_id).value = this.current_frame;\n",
       "  }\n",
       "\n",
       "  Animation.prototype.next_frame = function()\n",
       "  {\n",
       "    this.set_frame(Math.min(this.frames.length - 1, this.current_frame + 1));\n",
       "  }\n",
       "\n",
       "  Animation.prototype.previous_frame = function()\n",
       "  {\n",
       "    this.set_frame(Math.max(0, this.current_frame - 1));\n",
       "  }\n",
       "\n",
       "  Animation.prototype.first_frame = function()\n",
       "  {\n",
       "    this.set_frame(0);\n",
       "  }\n",
       "\n",
       "  Animation.prototype.last_frame = function()\n",
       "  {\n",
       "    this.set_frame(this.frames.length - 1);\n",
       "  }\n",
       "\n",
       "  Animation.prototype.slower = function()\n",
       "  {\n",
       "    this.interval /= 0.7;\n",
       "    if(this.direction > 0){this.play_animation();}\n",
       "    else if(this.direction < 0){this.reverse_animation();}\n",
       "  }\n",
       "\n",
       "  Animation.prototype.faster = function()\n",
       "  {\n",
       "    this.interval *= 0.7;\n",
       "    if(this.direction > 0){this.play_animation();}\n",
       "    else if(this.direction < 0){this.reverse_animation();}\n",
       "  }\n",
       "\n",
       "  Animation.prototype.anim_step_forward = function()\n",
       "  {\n",
       "    this.current_frame += 1;\n",
       "    if(this.current_frame < this.frames.length){\n",
       "      this.set_frame(this.current_frame);\n",
       "    }else{\n",
       "      var loop_state = this.get_loop_state();\n",
       "      if(loop_state == \"loop\"){\n",
       "        this.first_frame();\n",
       "      }else if(loop_state == \"reflect\"){\n",
       "        this.last_frame();\n",
       "        this.reverse_animation();\n",
       "      }else{\n",
       "        this.pause_animation();\n",
       "        this.last_frame();\n",
       "      }\n",
       "    }\n",
       "  }\n",
       "\n",
       "  Animation.prototype.anim_step_reverse = function()\n",
       "  {\n",
       "    this.current_frame -= 1;\n",
       "    if(this.current_frame >= 0){\n",
       "      this.set_frame(this.current_frame);\n",
       "    }else{\n",
       "      var loop_state = this.get_loop_state();\n",
       "      if(loop_state == \"loop\"){\n",
       "        this.last_frame();\n",
       "      }else if(loop_state == \"reflect\"){\n",
       "        this.first_frame();\n",
       "        this.play_animation();\n",
       "      }else{\n",
       "        this.pause_animation();\n",
       "        this.first_frame();\n",
       "      }\n",
       "    }\n",
       "  }\n",
       "\n",
       "  Animation.prototype.pause_animation = function()\n",
       "  {\n",
       "    this.direction = 0;\n",
       "    if (this.timer){\n",
       "      clearInterval(this.timer);\n",
       "      this.timer = null;\n",
       "    }\n",
       "  }\n",
       "\n",
       "  Animation.prototype.play_animation = function()\n",
       "  {\n",
       "    this.pause_animation();\n",
       "    this.direction = 1;\n",
       "    var t = this;\n",
       "    if (!this.timer) this.timer = setInterval(function() {\n",
       "        t.anim_step_forward();\n",
       "    }, this.interval);\n",
       "  }\n",
       "\n",
       "  Animation.prototype.reverse_animation = function()\n",
       "  {\n",
       "    this.pause_animation();\n",
       "    this.direction = -1;\n",
       "    var t = this;\n",
       "    if (!this.timer) this.timer = setInterval(function() {\n",
       "        t.anim_step_reverse();\n",
       "    }, this.interval);\n",
       "  }\n",
       "</script>\n",
       "\n",
       "<div class=\"animation\" align=\"center\">\n",
       "    <img id=\"_anim_imgb6d9696616df4652a46def6cdc6f2531\">\n",
       "    <br>\n",
       "    <input id=\"_anim_sliderb6d9696616df4652a46def6cdc6f2531\" type=\"range\" style=\"width:350px\"\n",
       "           name=\"points\" min=\"0\" max=\"1\" step=\"1\" value=\"0\"\n",
       "           onchange=\"animb6d9696616df4652a46def6cdc6f2531.set_frame(parseInt(this.value));\"></input>\n",
       "    <br>\n",
       "    <button onclick=\"animb6d9696616df4652a46def6cdc6f2531.slower()\"><i class=\"fa fa-minus\"></i></button>\n",
       "    <button onclick=\"animb6d9696616df4652a46def6cdc6f2531.first_frame()\"><i class=\"fa fa-fast-backward\">\n",
       "        </i></button>\n",
       "    <button onclick=\"animb6d9696616df4652a46def6cdc6f2531.previous_frame()\">\n",
       "        <i class=\"fa fa-step-backward\"></i></button>\n",
       "    <button onclick=\"animb6d9696616df4652a46def6cdc6f2531.reverse_animation()\">\n",
       "        <i class=\"fa fa-play fa-flip-horizontal\"></i></button>\n",
       "    <button onclick=\"animb6d9696616df4652a46def6cdc6f2531.pause_animation()\"><i class=\"fa fa-pause\">\n",
       "        </i></button>\n",
       "    <button onclick=\"animb6d9696616df4652a46def6cdc6f2531.play_animation()\"><i class=\"fa fa-play\"></i>\n",
       "        </button>\n",
       "    <button onclick=\"animb6d9696616df4652a46def6cdc6f2531.next_frame()\"><i class=\"fa fa-step-forward\">\n",
       "        </i></button>\n",
       "    <button onclick=\"animb6d9696616df4652a46def6cdc6f2531.last_frame()\"><i class=\"fa fa-fast-forward\">\n",
       "        </i></button>\n",
       "    <button onclick=\"animb6d9696616df4652a46def6cdc6f2531.faster()\"><i class=\"fa fa-plus\"></i></button>\n",
       "  <form action=\"#n\" name=\"_anim_loop_selectb6d9696616df4652a46def6cdc6f2531\" class=\"anim_control\">\n",
       "    <input type=\"radio\" name=\"state\"\n",
       "           value=\"once\" > Once </input>\n",
       "    <input type=\"radio\" name=\"state\"\n",
       "           value=\"loop\" checked> Loop </input>\n",
       "    <input type=\"radio\" name=\"state\"\n",
       "           value=\"reflect\" > Reflect </input>\n",
       "  </form>\n",
       "</div>\n",
       "\n",
       "\n",
       "<script language=\"javascript\">\n",
       "  /* Instantiate the Animation class. */\n",
       "  /* The IDs given should match those used in the template above. */\n",
       "  (function() {\n",
       "    var img_id = \"_anim_imgb6d9696616df4652a46def6cdc6f2531\";\n",
       "    var slider_id = \"_anim_sliderb6d9696616df4652a46def6cdc6f2531\";\n",
       "    var loop_select_id = \"_anim_loop_selectb6d9696616df4652a46def6cdc6f2531\";\n",
       "    var frames = new Array(100);\n",
       "    \n",
       "  for (var i=0; i<100; i++){\n",
       "    frames[i] = \"line3_frames/frame\" + (\"0000000\" + i).slice(-7) +\n",
       "                \".png\";\n",
       "  }\n",
       "\n",
       "\n",
       "    /* set a timeout to make sure all the above elements are created before\n",
       "       the object is initialized. */\n",
       "    setTimeout(function() {\n",
       "        animb6d9696616df4652a46def6cdc6f2531 = new Animation(frames, img_id, slider_id, 200.0,\n",
       "                                 loop_select_id);\n",
       "    }, 0);\n",
       "  })()\n",
       "</script>\n"
      ],
      "text/plain": [
       "<IPython.core.display.HTML object>"
      ]
     },
     "execution_count": 35,
     "metadata": {},
     "output_type": "execute_result"
    },
    {
     "name": "stderr",
     "output_type": "stream",
     "text": [
      "D:\\anaconda\\lib\\site-packages\\matplotlib\\figure.py:2267: UserWarning: This figure includes Axes that are not compatible with tight_layout, so results might be incorrect.\n",
      "  warnings.warn(\"This figure includes Axes that are not compatible \"\n"
     ]
    },
    {
     "data": {
      "image/png": "[encoded data removed]",
      "text/plain": [
       "<Figure size 720x360 with 2 Axes>"
      ]
     },
     "metadata": {},
     "output_type": "display_data"
    }
   ],
   "source": [
    "# GD\n",
    "make_anim(likelihood_array, param_array, 'line3.html')\n",
    "from IPython.display import HTML\n",
    "HTML('line3.html')"
   ]
  },
  {
   "cell_type": "code",
   "execution_count": 36,
   "metadata": {},
   "outputs": [
    {
     "name": "stdout",
     "output_type": "stream",
     "text": [
      "0 -55.451774444795625\n",
      "1 -49.924031176298996\n",
      "2 -45.9658632728969\n",
      "3 -42.98033886593017\n",
      "4 -40.66613114057812\n",
      "5 -38.84746842302786\n",
      "6 -37.410056526747866\n",
      "7 -36.27324363694959\n",
      "8 -35.37662476302115\n",
      "9 -34.67303923493961\n",
      "10 -34.124645828611264\n",
      "11 -33.700585147959316\n",
      "12 -33.375503627149584\n",
      "13 -33.128559110088574\n",
      "14 -32.9426977640217\n",
      "15 -32.804083613993306\n",
      "16 -32.70161555431308\n",
      "17 -32.62649933916387\n",
      "18 -32.57186144345313\n",
      "19 -32.53240196437113\n",
      "20 -32.50408783454258\n",
      "21 -32.48388794137939\n",
      "22 -32.469550218280844\n",
      "23 -32.45941875555736\n",
      "24 -32.452287271159264\n",
      "25 -32.44728421727287\n",
      "26 -32.44378440173598\n",
      "27 -32.44134213544901\n",
      "28 -32.43964139155216\n",
      "29 -32.43845910782136\n",
      "30 -32.43763845234177\n",
      "31 -32.4370695226427\n",
      "32 -32.43667551750039\n",
      "33 -32.436402893275364\n",
      "34 -32.43621439450486\n",
      "35 -32.436084141861734\n",
      "36 -32.435994183290816\n",
      "37 -32.43593208016726\n",
      "38 -32.435889222342226\n",
      "39 -32.435859654582785\n",
      "40 -32.435839260702664\n",
      "41 -32.43582519723438\n",
      "42 -32.43581550082105\n",
      "43 -32.435808816329484\n",
      "44 -32.43580420873133\n",
      "45 -32.43580103303911\n",
      "46 -32.435798844436164\n",
      "47 -32.4357973362106\n",
      "48 -32.435796296909686\n",
      "49 -32.43579558077263\n",
      "50 -32.43579508733277\n",
      "51 -32.43579474734884\n",
      "52 -32.43579451310347\n",
      "53 -32.43579435171442\n",
      "54 -32.435794240523556\n",
      "55 -32.43579416391847\n",
      "56 -32.43579411114197\n",
      "57 -32.43579407478239\n",
      "58 -32.435794049733204\n",
      "59 -32.43579403247621\n",
      "60 -32.43579402058752\n",
      "61 -32.435794012397196\n",
      "62 -32.435794006754776\n",
      "63 -32.435794002867645\n",
      "64 -32.43579400018976\n",
      "65 -32.43579399834495\n",
      "66 -32.43579399707404\n",
      "67 -32.43579399619851\n",
      "68 -32.43579399559535\n",
      "69 -32.43579399517983\n",
      "70 -32.43579399489359\n",
      "71 -32.43579399469638\n",
      "72 -32.43579399456053\n",
      "73 -32.43579399446695\n",
      "74 -32.435793994402474\n",
      "75 -32.43579399435804\n",
      "76 -32.435793994327454\n",
      "77 -32.43579399430638\n",
      "78 -32.435793994291856\n",
      "79 -32.43579399428185\n",
      "80 -32.43579399427496\n",
      "81 -32.43579399427021\n",
      "82 -32.43579399426694\n",
      "83 -32.435793994264685\n",
      "84 -32.435793994263136\n",
      "85 -32.43579399426207\n",
      "86 -32.43579399426133\n",
      "87 -32.43579399426083\n",
      "88 -32.43579399426048\n",
      "89 -32.43579399426022\n",
      "90 -32.43579399426007\n",
      "91 -32.43579399425995\n",
      "92 -32.435793994259875\n",
      "93 -32.435793994259825\n",
      "94 -32.43579399425978\n",
      "95 -32.43579399425976\n",
      "96 -32.43579399425974\n",
      "97 -32.435793994259726\n",
      "98 -32.435793994259726\n",
      "99 -32.43579399425971\n"
     ]
    }
   ],
   "source": [
    "theta = np.zeros(3)\n",
    "alpha = 1.7e-1\n",
    "\n",
    "likelihood_list = []\n",
    "param_list = []\n",
    "\n",
    "\n",
    "for i in range(100):\n",
    "    \n",
    "    likelihood_list.append(likelihood(X, y, theta))\n",
    "    param_list.append(theta.copy())\n",
    "\n",
    "    if i % 1 == 0:\n",
    "        print(i,likelihood(X, y, theta))\n",
    "    \n",
    "    _grad = grad(X, y, theta)\n",
    "    _hess = hess(X, theta)\n",
    "    \n",
    "    theta += alpha * (inv(_hess) @ _grad)\n",
    "    \n"
   ]
  },
  {
   "cell_type": "code",
   "execution_count": 37,
   "metadata": {},
   "outputs": [],
   "source": [
    "likelihood_array = np.array(likelihood_list)\n",
    "param_array = np.array(param_list)"
   ]
  },
  {
   "cell_type": "code",
   "execution_count": 38,
   "metadata": {},
   "outputs": [
    {
     "name": "stderr",
     "output_type": "stream",
     "text": [
      "D:\\anaconda\\lib\\site-packages\\ipykernel_launcher.py:3: RuntimeWarning: invalid value encountered in double_scalars\n",
      "  This is separate from the ipykernel package so we can avoid doing imports until\n",
      "D:\\anaconda\\lib\\site-packages\\ipykernel_launcher.py:4: RuntimeWarning: invalid value encountered in double_scalars\n",
      "  after removing the cwd from sys.path.\n"
     ]
    },
    {
     "data": {
      "text/html": [
       "\n",
       "<link rel=\"stylesheet\"\n",
       "href=\"https://maxcdn.bootstrapcdn.com/font-awesome/4.4.0/\n",
       "css/font-awesome.min.css\">\n",
       "<script language=\"javascript\">\n",
       "  /* Define the Animation class */\n",
       "  function Animation(frames, img_id, slider_id, interval, loop_select_id){\n",
       "    this.img_id = img_id;\n",
       "    this.slider_id = slider_id;\n",
       "    this.loop_select_id = loop_select_id;\n",
       "    this.interval = interval;\n",
       "    this.current_frame = 0;\n",
       "    this.direction = 0;\n",
       "    this.timer = null;\n",
       "    this.frames = new Array(frames.length);\n",
       "\n",
       "    for (var i=0; i<frames.length; i++)\n",
       "    {\n",
       "     this.frames[i] = new Image();\n",
       "     this.frames[i].src = frames[i];\n",
       "    }\n",
       "    document.getElementById(this.slider_id).max = this.frames.length - 1;\n",
       "    this.set_frame(this.current_frame);\n",
       "  }\n",
       "\n",
       "  Animation.prototype.get_loop_state = function(){\n",
       "    var button_group = document[this.loop_select_id].state;\n",
       "    for (var i = 0; i < button_group.length; i++) {\n",
       "        var button = button_group[i];\n",
       "        if (button.checked) {\n",
       "            return button.value;\n",
       "        }\n",
       "    }\n",
       "    return undefined;\n",
       "  }\n",
       "\n",
       "  Animation.prototype.set_frame = function(frame){\n",
       "    this.current_frame = frame;\n",
       "    document.getElementById(this.img_id).src =\n",
       "            this.frames[this.current_frame].src;\n",
       "    document.getElementById(this.slider_id).value = this.current_frame;\n",
       "  }\n",
       "\n",
       "  Animation.prototype.next_frame = function()\n",
       "  {\n",
       "    this.set_frame(Math.min(this.frames.length - 1, this.current_frame + 1));\n",
       "  }\n",
       "\n",
       "  Animation.prototype.previous_frame = function()\n",
       "  {\n",
       "    this.set_frame(Math.max(0, this.current_frame - 1));\n",
       "  }\n",
       "\n",
       "  Animation.prototype.first_frame = function()\n",
       "  {\n",
       "    this.set_frame(0);\n",
       "  }\n",
       "\n",
       "  Animation.prototype.last_frame = function()\n",
       "  {\n",
       "    this.set_frame(this.frames.length - 1);\n",
       "  }\n",
       "\n",
       "  Animation.prototype.slower = function()\n",
       "  {\n",
       "    this.interval /= 0.7;\n",
       "    if(this.direction > 0){this.play_animation();}\n",
       "    else if(this.direction < 0){this.reverse_animation();}\n",
       "  }\n",
       "\n",
       "  Animation.prototype.faster = function()\n",
       "  {\n",
       "    this.interval *= 0.7;\n",
       "    if(this.direction > 0){this.play_animation();}\n",
       "    else if(this.direction < 0){this.reverse_animation();}\n",
       "  }\n",
       "\n",
       "  Animation.prototype.anim_step_forward = function()\n",
       "  {\n",
       "    this.current_frame += 1;\n",
       "    if(this.current_frame < this.frames.length){\n",
       "      this.set_frame(this.current_frame);\n",
       "    }else{\n",
       "      var loop_state = this.get_loop_state();\n",
       "      if(loop_state == \"loop\"){\n",
       "        this.first_frame();\n",
       "      }else if(loop_state == \"reflect\"){\n",
       "        this.last_frame();\n",
       "        this.reverse_animation();\n",
       "      }else{\n",
       "        this.pause_animation();\n",
       "        this.last_frame();\n",
       "      }\n",
       "    }\n",
       "  }\n",
       "\n",
       "  Animation.prototype.anim_step_reverse = function()\n",
       "  {\n",
       "    this.current_frame -= 1;\n",
       "    if(this.current_frame >= 0){\n",
       "      this.set_frame(this.current_frame);\n",
       "    }else{\n",
       "      var loop_state = this.get_loop_state();\n",
       "      if(loop_state == \"loop\"){\n",
       "        this.last_frame();\n",
       "      }else if(loop_state == \"reflect\"){\n",
       "        this.first_frame();\n",
       "        this.play_animation();\n",
       "      }else{\n",
       "        this.pause_animation();\n",
       "        this.first_frame();\n",
       "      }\n",
       "    }\n",
       "  }\n",
       "\n",
       "  Animation.prototype.pause_animation = function()\n",
       "  {\n",
       "    this.direction = 0;\n",
       "    if (this.timer){\n",
       "      clearInterval(this.timer);\n",
       "      this.timer = null;\n",
       "    }\n",
       "  }\n",
       "\n",
       "  Animation.prototype.play_animation = function()\n",
       "  {\n",
       "    this.pause_animation();\n",
       "    this.direction = 1;\n",
       "    var t = this;\n",
       "    if (!this.timer) this.timer = setInterval(function() {\n",
       "        t.anim_step_forward();\n",
       "    }, this.interval);\n",
       "  }\n",
       "\n",
       "  Animation.prototype.reverse_animation = function()\n",
       "  {\n",
       "    this.pause_animation();\n",
       "    this.direction = -1;\n",
       "    var t = this;\n",
       "    if (!this.timer) this.timer = setInterval(function() {\n",
       "        t.anim_step_reverse();\n",
       "    }, this.interval);\n",
       "  }\n",
       "</script>\n",
       "\n",
       "<div class=\"animation\" align=\"center\">\n",
       "    <img id=\"_anim_imgbc17dcb9441349fba8630b181d8bed98\">\n",
       "    <br>\n",
       "    <input id=\"_anim_sliderbc17dcb9441349fba8630b181d8bed98\" type=\"range\" style=\"width:350px\"\n",
       "           name=\"points\" min=\"0\" max=\"1\" step=\"1\" value=\"0\"\n",
       "           onchange=\"animbc17dcb9441349fba8630b181d8bed98.set_frame(parseInt(this.value));\"></input>\n",
       "    <br>\n",
       "    <button onclick=\"animbc17dcb9441349fba8630b181d8bed98.slower()\"><i class=\"fa fa-minus\"></i></button>\n",
       "    <button onclick=\"animbc17dcb9441349fba8630b181d8bed98.first_frame()\"><i class=\"fa fa-fast-backward\">\n",
       "        </i></button>\n",
       "    <button onclick=\"animbc17dcb9441349fba8630b181d8bed98.previous_frame()\">\n",
       "        <i class=\"fa fa-step-backward\"></i></button>\n",
       "    <button onclick=\"animbc17dcb9441349fba8630b181d8bed98.reverse_animation()\">\n",
       "        <i class=\"fa fa-play fa-flip-horizontal\"></i></button>\n",
       "    <button onclick=\"animbc17dcb9441349fba8630b181d8bed98.pause_animation()\"><i class=\"fa fa-pause\">\n",
       "        </i></button>\n",
       "    <button onclick=\"animbc17dcb9441349fba8630b181d8bed98.play_animation()\"><i class=\"fa fa-play\"></i>\n",
       "        </button>\n",
       "    <button onclick=\"animbc17dcb9441349fba8630b181d8bed98.next_frame()\"><i class=\"fa fa-step-forward\">\n",
       "        </i></button>\n",
       "    <button onclick=\"animbc17dcb9441349fba8630b181d8bed98.last_frame()\"><i class=\"fa fa-fast-forward\">\n",
       "        </i></button>\n",
       "    <button onclick=\"animbc17dcb9441349fba8630b181d8bed98.faster()\"><i class=\"fa fa-plus\"></i></button>\n",
       "  <form action=\"#n\" name=\"_anim_loop_selectbc17dcb9441349fba8630b181d8bed98\" class=\"anim_control\">\n",
       "    <input type=\"radio\" name=\"state\"\n",
       "           value=\"once\" > Once </input>\n",
       "    <input type=\"radio\" name=\"state\"\n",
       "           value=\"loop\" checked> Loop </input>\n",
       "    <input type=\"radio\" name=\"state\"\n",
       "           value=\"reflect\" > Reflect </input>\n",
       "  </form>\n",
       "</div>\n",
       "\n",
       "\n",
       "<script language=\"javascript\">\n",
       "  /* Instantiate the Animation class. */\n",
       "  /* The IDs given should match those used in the template above. */\n",
       "  (function() {\n",
       "    var img_id = \"_anim_imgbc17dcb9441349fba8630b181d8bed98\";\n",
       "    var slider_id = \"_anim_sliderbc17dcb9441349fba8630b181d8bed98\";\n",
       "    var loop_select_id = \"_anim_loop_selectbc17dcb9441349fba8630b181d8bed98\";\n",
       "    var frames = new Array(100);\n",
       "    \n",
       "  for (var i=0; i<100; i++){\n",
       "    frames[i] = \"line4_frames/frame\" + (\"0000000\" + i).slice(-7) +\n",
       "                \".png\";\n",
       "  }\n",
       "\n",
       "\n",
       "    /* set a timeout to make sure all the above elements are created before\n",
       "       the object is initialized. */\n",
       "    setTimeout(function() {\n",
       "        animbc17dcb9441349fba8630b181d8bed98 = new Animation(frames, img_id, slider_id, 200.0,\n",
       "                                 loop_select_id);\n",
       "    }, 0);\n",
       "  })()\n",
       "</script>\n"
      ],
      "text/plain": [
       "<IPython.core.display.HTML object>"
      ]
     },
     "execution_count": 38,
     "metadata": {},
     "output_type": "execute_result"
    },
    {
     "name": "stderr",
     "output_type": "stream",
     "text": [
      "D:\\anaconda\\lib\\site-packages\\matplotlib\\figure.py:2267: UserWarning: This figure includes Axes that are not compatible with tight_layout, so results might be incorrect.\n",
      "  warnings.warn(\"This figure includes Axes that are not compatible \"\n"
     ]
    },
    {
     "data": {
      "image/png": "[encoded data removed]",
      "text/plain": [
       "<Figure size 720x360 with 2 Axes>"
      ]
     },
     "metadata": {},
     "output_type": "display_data"
    }
   ],
   "source": [
    "# Newton\n",
    "make_anim(likelihood_array, param_array, 'line4.html')\n",
    "from IPython.display import HTML\n",
    "HTML('line4.html')"
   ]
  },
  {
   "cell_type": "code",
   "execution_count": null,
   "metadata": {},
   "outputs": [],
   "source": []
  }
 ],
 "metadata": {
  "kernelspec": {
   "display_name": "Python 3",
   "language": "python",
   "name": "python3"
  },
  "language_info": {
   "codemirror_mode": {
    "name": "ipython",
    "version": 3
   },
   "file_extension": ".py",
   "mimetype": "text/x-python",
   "name": "python",
   "nbconvert_exporter": "python",
   "pygments_lexer": "ipython3",
   "version": "3.6.5"
  }
 },
 "nbformat": 4,
 "nbformat_minor": 2
}
