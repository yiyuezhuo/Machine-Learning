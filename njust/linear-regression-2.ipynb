{
 "cells": [
  {
   "cell_type": "markdown",
   "metadata": {},
   "source": [
    "# The Equivalence of Newton's method and normal equation\n",
    "\n",
    "The normal equation give exact solution for OLS:\n",
    "\n",
    "$$\n",
    "\\beta = (X^T X)^{-1} X^T Y\n",
    "$$\n",
    "\n",
    "For Newton's method, we have gradient:\n",
    "\n",
    "$$ \n",
    "\\begin{align} \n",
    "l( \\beta ) &= \\frac{1}{2} \\sum_{i=1}^N (y_i - X_i \\beta)^2 \\\\\n",
    "\\nabla_{\\beta} l(\\theta) &= \\sum_{i=1}^N (y_i - X_i \\beta)(-X_i) = (-X^T)(Y-X\\beta) \\\\\n",
    "\\end{align}\n",
    "$$\n",
    "\n",
    "To derivate hessian without matrix theory, write above equation as scalar:\n",
    "\n",
    "$$\n",
    "\\begin{align}\n",
    "\\nabla_\\beta l(\\beta)_s &= \\sum_{i=1}^N (y_i - X_i \\beta)(-X_{is}) \\\\\n",
    "\\frac{\\partial}{\\partial \\beta_t} (\\nabla_\\beta l(\\beta)) &= \\sum_{i=1}^N{(-X_{it})(-X_{is})} = \\sum_{i=1}^N X_{it}X_{is} \\\\\n",
    "\\end{align}\n",
    "$$\n",
    "\n",
    "Write it as matrix:\n",
    "\n",
    "$$\n",
    "H(\\beta) = X^T X\n",
    "$$\n",
    "\n",
    "Set $\\beta^{(0)} = \\mathbf{0}$ as init value for Newton's method. So:\n",
    "\n",
    "$$\n",
    "\\beta^{(1)} = \\beta^{(0)} - H(\\beta^{(0)})^{-1}\\nabla l(\\beta^{(0)}) = \\mathbf{0} - (X^TX)^{-1} (-X^T)(Y - X \\mathbf{0}) \n",
    "= (X^TX)^{-1}X^TY\n",
    "$$\n",
    "\n",
    "It's exact the result taken from normal equation.\n",
    "\n",
    "# SGD"
   ]
  },
  {
   "cell_type": "code",
   "execution_count": 1,
   "metadata": {},
   "outputs": [],
   "source": [
    "import numpy as np\n",
    "from numpy.linalg import inv\n"
   ]
  },
  {
   "cell_type": "code",
   "execution_count": 2,
   "metadata": {},
   "outputs": [],
   "source": [
    "x = np.array([2000, 2001, 2002, 2003, 2004, 2005, 2006, 2007, 2008, 2009, 2010, 2011, 2012, 2013])\n",
    "y = np.array([2.000, 2.500, 2.900, 3.147, 4.515, 4.903, 5.365, 5.704, 6.853, 7.971, 8.561, 10.000, 11.280, 12.900])\n",
    "\n",
    "X = np.c_[np.ones_like(x), x].astype('float')"
   ]
  },
  {
   "cell_type": "code",
   "execution_count": 3,
   "metadata": {},
   "outputs": [],
   "source": [
    "X_s = X.copy() # standardized X\n",
    "mean,std = X[:,1].mean(), X[:,1].std()\n",
    "X_s[:,1] = (X[:,1] - mean)/std"
   ]
  },
  {
   "cell_type": "code",
   "execution_count": 4,
   "metadata": {},
   "outputs": [],
   "source": [
    "alpha = 0.001\n",
    "N = y.shape[0]\n",
    "batch_size = 1\n",
    "\n",
    "p = np.zeros(2)\n",
    "for i in range(10000):\n",
    "    idx = np.random.randint(N, size=batch_size)\n",
    "    error = np.expand_dims(X_s[idx] @ p - y[idx], axis=1)\n",
    "    p = p - alpha * np.sum(error * X_s[idx], axis=0)\n"
   ]
  },
  {
   "cell_type": "code",
   "execution_count": 5,
   "metadata": {},
   "outputs": [
    {
     "data": {
      "text/plain": [
       "(2006.5, 4.031128874149275)"
      ]
     },
     "execution_count": 5,
     "metadata": {},
     "output_type": "execute_result"
    }
   ],
   "source": [
    "mean,std"
   ]
  },
  {
   "cell_type": "code",
   "execution_count": 6,
   "metadata": {},
   "outputs": [
    {
     "data": {
      "text/plain": [
       "array([6.33234447, 3.22144996])"
      ]
     },
     "execution_count": 6,
     "metadata": {},
     "output_type": "execute_result"
    }
   ],
   "source": [
    "p"
   ]
  },
  {
   "cell_type": "code",
   "execution_count": 7,
   "metadata": {},
   "outputs": [
    {
     "data": {
      "text/plain": [
       "(-1597.1488496542079, 0.7991433810739631)"
      ]
     },
     "execution_count": 7,
     "metadata": {},
     "output_type": "execute_result"
    }
   ],
   "source": [
    "p[0] - p[1] * mean/std, p[1]/std"
   ]
  },
  {
   "cell_type": "code",
   "execution_count": null,
   "metadata": {},
   "outputs": [],
   "source": []
  }
 ],
 "metadata": {
  "kernelspec": {
   "display_name": "Python 3",
   "language": "python",
   "name": "python3"
  },
  "language_info": {
   "codemirror_mode": {
    "name": "ipython",
    "version": 3
   },
   "file_extension": ".py",
   "mimetype": "text/x-python",
   "name": "python",
   "nbconvert_exporter": "python",
   "pygments_lexer": "ipython3",
   "version": "3.6.5"
  }
 },
 "nbformat": 4,
 "nbformat_minor": 2
}
